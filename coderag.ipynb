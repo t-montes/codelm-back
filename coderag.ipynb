{
 "cells": [
  {
   "cell_type": "code",
   "execution_count": null,
   "metadata": {},
   "outputs": [],
   "source": [
    "from datasets import load_dataset\n",
    "from service import Service\n",
    "from utils import show_diff\n",
    "import json\n",
    "import time\n",
    "import os\n",
    "\n",
    "# possible RAG strategies: \n",
    "# \"no_rag\" - no RAG strategy, only the question is used\n",
    "# \"docs\" - ground-truth docs are provided in the context\n",
    "# \"serpapi\" - search engine results are provided in the context\n",
    "# \"serpapi_embedding\" - search engine results are obtained and embedded for doing RAG\n",
    "\n",
    "main_folder = \"code_rag_bench\"\n",
    "dataset_name = \"humaneval\"\n",
    "model = \"gpt-4o\"\n",
    "rag_strategy = \"docs\"\n",
    "eval_folder = f\"{main_folder}/{dataset_name}/{model.replace('-', '_').replace('/', '_')}/{rag_strategy}\"\n",
    "failed_folder = f\"{eval_folder}/failed\"\n",
    "os.makedirs(eval_folder, exist_ok=True)\n",
    "os.makedirs(failed_folder, exist_ok=True)\n",
    "\n",
    "s = Service(seed=42, get_usage=True, get_diff=True)\n",
    "\n",
    "dataset = load_dataset(f\"code-rag-bench/{dataset_name}\")[\"train\"]\n",
    "df = dataset.to_polars()"
   ]
  },
  {
   "cell_type": "code",
   "execution_count": null,
   "metadata": {},
   "outputs": [],
   "source": [
    "def compute_price(model, in_tk, out_tk):\n",
    "    prices_per_1m = {\n",
    "        \"gpt-4o\": \n",
    "        {\"input\": 2.5, \"output\": 10.0},\n",
    "        \"gpt-4o-mini\": \n",
    "        {\"input\": 0.15, \"output\": 0.6},\n",
    "        \"meta-llama/Llama-3.2-3B-Instruct-Turbo\": \n",
    "        {\"input\": 0.06, \"output\": 0.06},\n",
    "        \"meta-llama/Llama-3-8b-chat-hf\":\n",
    "        {\"input\": 0.2, \"output\": 0.2},\n",
    "        \"meta-llama/Llama-3-70b-chat-hf\":\n",
    "        {\"input\": 0.88, \"output\": 0.88},\n",
    "        \"nvidia/Llama-3.1-Nemotron-70B-Instruct-HF\":\n",
    "        {\"input\": 0.88, \"output\": 0.88},\n",
    "        \"Qwen/Qwen2.5-Coder-32B-Instruct\":\n",
    "        {\"input\": 0.8, \"output\": 0.8},\n",
    "        \"codellama/CodeLlama-34b-Instruct-hf\":\n",
    "        {\"input\": 0.78, \"output\": 0.78},\n",
    "        \"upstage/SOLAR-10.7B-Instruct-v1.0\":\n",
    "        {\"input\": 0.3, \"output\": 0.3},\n",
    "        \"google/gemma-2-27b-it\":\n",
    "        {\"input\": 0.8, \"output\": 0.8},\n",
    "        \"google/gemma-2-9b-it\":\n",
    "        {\"input\": 0.3, \"output\": 0.3},\n",
    "        \"deepseek-ai/deepseek-llm-67b-chat\":\n",
    "        {\"input\": 0.9, \"output\": 0.9},\n",
    "    }\n",
    "\n",
    "    if model not in prices_per_1m:\n",
    "        raise ValueError(f\"Model {model} not found in the pricing list\")\n",
    "\n",
    "    input_cost = (in_tk / 1e6) * prices_per_1m[model][\"input\"]\n",
    "    output_cost = (out_tk / 1e6) * prices_per_1m[model][\"output\"]\n",
    "\n",
    "    return input_cost + output_cost"
   ]
  },
  {
   "cell_type": "markdown",
   "metadata": {},
   "source": [
    "## Get the Responses"
   ]
  },
  {
   "cell_type": "code",
   "execution_count": 3,
   "metadata": {},
   "outputs": [],
   "source": [
    "RESPONSES_FILE = f\"./{eval_folder}/benchmark.json\"\n",
    "\n",
    "r = {\"data\":[], \"checkpoint\": 0, \"input_tokens\": 0, \"output_tokens\": 0, \"total_price\": 0, \"price_per_req\": 0}\n",
    "if os.path.exists(RESPONSES_FILE):\n",
    "    with open(RESPONSES_FILE, \"r\") as f:\n",
    "        r = json.load(f)\n",
    "else:\n",
    "    with open(RESPONSES_FILE, \"w\") as f:\n",
    "        f.write(json.dumps(r, indent=4))"
   ]
  },
  {
   "cell_type": "code",
   "execution_count": 4,
   "metadata": {},
   "outputs": [
    {
     "name": "stdout",
     "output_type": "stream",
     "text": [
      "Done 0/164 (0.00%)\n"
     ]
    }
   ],
   "source": [
    "assert r['checkpoint'] == len(r['data']), \"Checkpoint does not match with executed requests\"\n",
    "print(f\"Done {r['checkpoint']}/{len(df)} ({100*r['checkpoint']/len(df):.2f}%)\")"
   ]
  },
  {
   "cell_type": "markdown",
   "metadata": {},
   "source": [
    "## HumanEval"
   ]
  },
  {
   "cell_type": "code",
   "execution_count": null,
   "metadata": {},
   "outputs": [
    {
     "name": "stdout",
     "output_type": "stream",
     "text": [
      "Task ID: HumanEval/139\n",
      "SAVED (140)\n",
      "Task ID: HumanEval/140\n",
      "Task ID: HumanEval/141\n",
      "Task ID: HumanEval/142\n",
      "Task ID: HumanEval/143\n",
      "Task ID: HumanEval/144\n",
      "Task ID: HumanEval/145\n",
      "Task ID: HumanEval/146\n",
      "Task ID: HumanEval/147\n",
      "Task ID: HumanEval/148\n",
      "Task ID: HumanEval/149\n",
      "SAVED (150)\n",
      "Task ID: HumanEval/150\n",
      "Task ID: HumanEval/151\n",
      "Task ID: HumanEval/152\n",
      "Task ID: HumanEval/153\n",
      "Task ID: HumanEval/154\n",
      "Task ID: HumanEval/155\n",
      "Task ID: HumanEval/156\n",
      "Task ID: HumanEval/157\n",
      "Task ID: HumanEval/158\n",
      "Task ID: HumanEval/159\n",
      "SAVED (160)\n",
      "Task ID: HumanEval/160\n",
      "Task ID: HumanEval/161\n",
      "Task ID: HumanEval/162\n",
      "Task ID: HumanEval/163\n"
     ]
    }
   ],
   "source": [
    "for d in df[r['checkpoint']:].iter_rows(named=True):\n",
    "    print(f\"Task ID: {d['task_id']}\")\n",
    "    code = d['prompt']\n",
    "    gt_docs = d['docs'][0]['text'] if rag_strategy == 'docs' else None\n",
    "    response = s.process(None, code, gt_docs, model)\n",
    "    #show_diff(response['diff'])\n",
    "\n",
    "    try: idx_diff = max(i for i, item in enumerate(response['diff']) if item[0] == \"insert\")\n",
    "    except: idx_diff = -1\n",
    "    r[\"data\"].append({\n",
    "        \"solution\": response['updatedCode'],\n",
    "        \"only_solution\": response['diff'][idx_diff][-1] if idx_diff >=0 else response['updatedCode'],\n",
    "    })\n",
    "\n",
    "    r[\"input_tokens\"] += response[\"usage\"][\"input\"]\n",
    "    r[\"output_tokens\"] += response[\"usage\"][\"output\"]\n",
    "    r[\"checkpoint\"] += 1\n",
    "\n",
    "    if r['checkpoint'] % 10 == 0:\n",
    "        price = compute_price(model, r['input_tokens'], r['output_tokens'])\n",
    "        r['total_price'] = round(price, 4)\n",
    "        r['price_per_req'] = round(price / r['checkpoint'], 6)\n",
    "        with open(RESPONSES_FILE, \"w\") as f:\n",
    "            f.write(json.dumps(r, indent=4))\n",
    "        print(f\"SAVED ({r['checkpoint']})\")\n",
    "\n",
    "price = compute_price(model, r['input_tokens'], r['output_tokens'])\n",
    "r['total_price'] = round(price, 4)\n",
    "r['price_per_req'] = round(price / r['checkpoint'], 8)\n",
    "with open(RESPONSES_FILE, \"w\") as f:\n",
    "    f.write(json.dumps(r, indent=4))"
   ]
  },
  {
   "cell_type": "markdown",
   "metadata": {},
   "source": [
    "## Evaluate the Responses"
   ]
  },
  {
   "cell_type": "code",
   "execution_count": null,
   "metadata": {},
   "outputs": [],
   "source": [
    "failed_tasks = []\n",
    "log = \"\"\n",
    "\n",
    "for row,_ in zip(df[:r['checkpoint']].iter_rows(named=True), r['data']):\n",
    "    row.update(_)\n",
    "\n",
    "    with open(f\"./{main_folder}/solution.py\", \"w\", encoding='utf-8') as f:\n",
    "        if not row['solution'].startswith(('def', 'class', 'import', 'from')):\n",
    "            f.write(row['prompt']+'\\n')\n",
    "        f.write(row['solution'])\n",
    "    with open(f\"./{main_folder}/canonical_solution.py\", \"w\", encoding='utf-8') as f:\n",
    "        f.write(row['prompt']+row['canonical_solution'])\n",
    "    with open(f\"./{main_folder}/evaluate.py\", \"w\", encoding='utf-8') as f:\n",
    "        f.write(f\"from {main_folder}.canonical_solution import *\\n\")\n",
    "        f.write(row['test'])\n",
    "    \n",
    "    try:\n",
    "        exec(open(f\"./{main_folder}/canonical_solution.py\").read())\n",
    "        exec(open(f\"./{main_folder}/solution.py\").read())\n",
    "        exec(open(f\"./{main_folder}/evaluate.py\").read())\n",
    "        globals()['check'](globals()[row['entry_point']])\n",
    "    except Exception as e:\n",
    "        id = row['task_id']\n",
    "        realid = id.split('/')[1]\n",
    "        log += f\"\"\"Error ({id}): [{str(e.__class__).replace(\"<class '\", \"\").replace(\"'>\", \"\")}] {e}\\n\"\"\"\n",
    "        # renam solution and evaluate files for the failed task, so they can be debugged\n",
    "        if not os.path.exists(f\"./{failed_folder}/c{realid}_solution.py\"):\n",
    "            os.rename(f\"./{main_folder}/solution.py\", f\"./{failed_folder}/c{realid}_solution.py\")\n",
    "        if not os.path.exists(f\"./{failed_folder}/c{realid}_canonical_solution.py\"):\n",
    "            os.rename(f\"./{main_folder}/canonical_solution.py\", f\"./{failed_folder}/c{realid}_canonical_solution.py\")\n",
    "        if not os.path.exists(f\"./{failed_folder}/c{realid}_evaluate.py\"):\n",
    "            with open(f\"./{failed_folder}/c{realid}_evaluate.py\", \"w\", encoding='utf-8') as f:\n",
    "                f.write(f\"from c{realid}_canonical_solution import *\\n\")\n",
    "                f.write(f\"from c{realid}_solution import {row['entry_point']} as proposed\\n\")\n",
    "                f.write(row['test'])\n",
    "                f.write(f\"\\ncheck(proposed)\")\n",
    "        failed_tasks.append(id)\n",
    "\n",
    "success = r['checkpoint'] - len(failed_tasks)\n",
    "log += f\"Accuracy: {success}/{r['checkpoint']} ({success/r['checkpoint']:.2%})\\n\"\n",
    "log += f\"Failed tasks: {failed_tasks}\"\n",
    "\n",
    "with open(f\"{eval_folder}/benchmark.log\", \"w\") as f:\n",
    "    f.write(log)\n",
    "\n",
    "# remove the temporary files\n",
    "if os.path.exists(f\"./{main_folder}/solution.py\"):\n",
    "    os.remove(f\"./{main_folder}/solution.py\")\n",
    "if os.path.exists(f\"./{main_folder}/evaluate.py\"):\n",
    "    os.remove(f\"./{main_folder}/evaluate.py\")\n",
    "if os.path.exists(f\"./{main_folder}/canonical_solution.py\"):\n",
    "    os.remove(f\"./{main_folder}/canonical_solution.py\")"
   ]
  }
 ],
 "metadata": {
  "kernelspec": {
   "display_name": "Python 3",
   "language": "python",
   "name": "python3"
  },
  "language_info": {
   "codemirror_mode": {
    "name": "ipython",
    "version": 3
   },
   "file_extension": ".py",
   "mimetype": "text/x-python",
   "name": "python",
   "nbconvert_exporter": "python",
   "pygments_lexer": "ipython3",
   "version": "3.11.9"
  }
 },
 "nbformat": 4,
 "nbformat_minor": 2
}
